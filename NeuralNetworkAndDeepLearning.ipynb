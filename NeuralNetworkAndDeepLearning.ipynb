{
  "nbformat": 4,
  "nbformat_minor": 0,
  "metadata": {
    "colab": {
      "provenance": [],
      "toc_visible": true,
      "authorship_tag": "ABX9TyNLGOzZQsJ0NDZhyWtEt0ZW",
      "include_colab_link": true
    },
    "kernelspec": {
      "name": "python3",
      "display_name": "Python 3"
    },
    "language_info": {
      "name": "python"
    },
    "accelerator": "GPU",
    "gpuClass": "standard"
  },
  "cells": [
    {
      "cell_type": "markdown",
      "metadata": {
        "id": "view-in-github",
        "colab_type": "text"
      },
      "source": [
        "<a href=\"https://colab.research.google.com/github/jirayuwat12/SuperAI/blob/master/NeuralNetworkAndDeepLearning.ipynb\" target=\"_parent\"><img src=\"https://colab.research.google.com/assets/colab-badge.svg\" alt=\"Open In Colab\"/></a>"
      ]
    },
    {
      "cell_type": "markdown",
      "source": [
        "#Percepton with TF"
      ],
      "metadata": {
        "id": "z304p_2txcLd"
      }
    },
    {
      "cell_type": "code",
      "source": [
        "import tensorflow as tf"
      ],
      "metadata": {
        "id": "rwImqT4kt-P-"
      },
      "execution_count": null,
      "outputs": []
    },
    {
      "cell_type": "code",
      "execution_count": null,
      "metadata": {
        "id": "tAx0KQnRsrrq"
      },
      "outputs": [],
      "source": [
        "d_in = (2,)"
      ]
    },
    {
      "cell_type": "code",
      "source": [
        "model = tf.keras.Sequential()"
      ],
      "metadata": {
        "id": "lm6ZR_82xlGj"
      },
      "execution_count": null,
      "outputs": []
    },
    {
      "cell_type": "code",
      "source": [
        "# dense connect every node = FC = fully connected\n",
        "model.add(tf.keras.layers.Dense(1,input_shape=d_in))\n",
        "model.add(tf.keras.layers.Activation('sigmoid'))"
      ],
      "metadata": {
        "id": "0l3RiikCxoFd"
      },
      "execution_count": null,
      "outputs": []
    },
    {
      "cell_type": "code",
      "source": [
        "model.compile(loss=tf.keras.losses.MeanSquaredError(),\n",
        "              optimizer=tf.keras.optimizers.SGD(learning_rate = 0.1))"
      ],
      "metadata": {
        "id": "vgtrN2zfx2Qe"
      },
      "execution_count": null,
      "outputs": []
    },
    {
      "cell_type": "markdown",
      "source": [
        "**Mean Square Error : MSE**\n",
        "$$\n",
        "E(W) = \\dfrac{1}{N}\\sum (o_i^{true} - o_i^{predict})^2\n",
        "$$"
      ],
      "metadata": {
        "id": "WqieDeH-yllR"
      }
    },
    {
      "cell_type": "markdown",
      "source": [
        "**Stochastic Gradient Descent : SGD**\n",
        "- use less memory than GD"
      ],
      "metadata": {
        "id": "ceviiTOjzdfL"
      }
    },
    {
      "cell_type": "code",
      "source": [
        "X = [[0,0],[0,1],[1,0],[1,1]]\n",
        "y = [0,1,1,0]"
      ],
      "metadata": {
        "id": "6cvd2Y9SyXOe"
      },
      "execution_count": null,
      "outputs": []
    },
    {
      "cell_type": "code",
      "source": [
        "history = model.fit(X,y,epochs=500)"
      ],
      "metadata": {
        "id": "Pbf8uIhM0wvp"
      },
      "execution_count": null,
      "outputs": []
    },
    {
      "cell_type": "code",
      "source": [
        "import matplotlib.pyplot as plt\n",
        "plt.plot(history.history['loss'])\n",
        "plt.show()"
      ],
      "metadata": {
        "colab": {
          "base_uri": "https://localhost:8080/",
          "height": 265
        },
        "id": "cs78g85P02jm",
        "outputId": "21aefd46-385d-4c9f-e16f-fe66a78f616c"
      },
      "execution_count": null,
      "outputs": [
        {
          "output_type": "display_data",
          "data": {
            "text/plain": [
              "<Figure size 432x288 with 1 Axes>"
            ],
            "image/png": "[encoded data removed]"
          },
          "metadata": {
            "needs_background": "light"
          }
        }
      ]
    },
    {
      "cell_type": "code",
      "source": [
        "Z = model.predict(X)\n",
        "print(tf.round(Z))"
      ],
      "metadata": {
        "colab": {
          "base_uri": "https://localhost:8080/"
        },
        "id": "knhI6fSO1Pn0",
        "outputId": "5caab300-b262-4a6c-8dc2-dc19816b0dcd"
      },
      "execution_count": null,
      "outputs": [
        {
          "output_type": "stream",
          "name": "stdout",
          "text": [
            "1/1 [==============================] - 0s 156ms/step\n",
            "tf.Tensor(\n",
            "[[0.]\n",
            " [1.]\n",
            " [1.]\n",
            " [1.]], shape=(4, 1), dtype=float32)\n"
          ]
        }
      ]
    },
    {
      "cell_type": "markdown",
      "source": [
        "actual ans = 0,1,1,0\n",
        "\n",
        "because this is a **non-linear**"
      ],
      "metadata": {
        "id": "Y_09if2R2Ao5"
      }
    },
    {
      "cell_type": "markdown",
      "source": [
        "# Multi-layer Perceptron : MLP\n",
        "\n",
        "- add *hidden layers* between input and output linear"
      ],
      "metadata": {
        "id": "g12yjGqQ2Tn0"
      }
    },
    {
      "cell_type": "code",
      "source": [
        "model = tf.keras.Sequential()"
      ],
      "metadata": {
        "id": "s5XwAtSP1enB"
      },
      "execution_count": null,
      "outputs": []
    },
    {
      "cell_type": "code",
      "source": [
        "model.add(tf.keras.layers.Dense(20,input_shape=d_in))\n",
        "model.add(tf.keras.layers.Activation('sigmoid'))\n",
        "model.add(tf.keras.layers.Dense(1))\n",
        "model.add(tf.keras.layers.Activation('sigmoid'))"
      ],
      "metadata": {
        "id": "pLMSZOCI3Fah"
      },
      "execution_count": null,
      "outputs": []
    },
    {
      "cell_type": "code",
      "source": [
        "model.compile(loss=tf.keras.losses.MeanSquaredError(),\n",
        "              optimizer=tf.keras.optimizers.SGD(learning_rate = 1.5))"
      ],
      "metadata": {
        "id": "kAv6luX04wYR"
      },
      "execution_count": null,
      "outputs": []
    },
    {
      "cell_type": "code",
      "source": [
        "X = [[0,0],[0,1],[1,0],[1,1]]\n",
        "y = [0,1,1,0]"
      ],
      "metadata": {
        "id": "jZAg0ah64zAF"
      },
      "execution_count": null,
      "outputs": []
    },
    {
      "cell_type": "code",
      "source": [
        "history = model.fit(X,y,epochs=500)"
      ],
      "metadata": {
        "colab": {
          "base_uri": "https://localhost:8080/"
        },
        "id": "TgfabEJQ41uW",
        "outputId": "7af9fbe3-77d6-4a20-c044-e54240de5e87"
      },
      "execution_count": null,
      "outputs": [
        {
          "output_type": "stream",
          "name": "stdout",
          "text": [
            "Epoch 1/500\n",
            "1/1 [==============================] - 0s 11ms/step - loss: 0.2224\n",
            "Epoch 2/500\n",
            "1/1 [==============================] - 0s 8ms/step - loss: 0.2219\n",
            "Epoch 3/500\n",
            "1/1 [==============================] - 0s 9ms/step - loss: 0.2214\n",
            "Epoch 4/500\n",
            "1/1 [==============================] - 0s 9ms/step - loss: 0.2209\n",
            "Epoch 5/500\n",
            "1/1 [==============================] - 0s 10ms/step - loss: 0.2203\n",
            "Epoch 6/500\n",
            "1/1 [==============================] - 0s 7ms/step - loss: 0.2198\n",
            "Epoch 7/500\n",
            "1/1 [==============================] - 0s 10ms/step - loss: 0.2192\n",
            "Epoch 8/500\n",
            "1/1 [==============================] - 0s 11ms/step - loss: 0.2187\n",
            "Epoch 9/500\n",
            "1/1 [==============================] - 0s 11ms/step - loss: 0.2181\n",
            "Epoch 10/500\n",
            "1/1 [==============================] - 0s 8ms/step - loss: 0.2176\n",
            "Epoch 11/500\n",
            "1/1 [==============================] - 0s 11ms/step - loss: 0.2170\n",
            "Epoch 12/500\n",
            "1/1 [==============================] - 0s 9ms/step - loss: 0.2164\n",
            "Epoch 13/500\n",
            "1/1 [==============================] - 0s 10ms/step - loss: 0.2158\n",
            "Epoch 14/500\n",
            "1/1 [==============================] - 0s 10ms/step - loss: 0.2152\n",
            "Epoch 15/500\n",
            "1/1 [==============================] - 0s 11ms/step - loss: 0.2145\n",
            "Epoch 16/500\n",
            "1/1 [==============================] - 0s 10ms/step - loss: 0.2139\n",
            "Epoch 17/500\n",
            "1/1 [==============================] - 0s 9ms/step - loss: 0.2133\n",
            "Epoch 18/500\n",
            "1/1 [==============================] - 0s 9ms/step - loss: 0.2126\n",
            "Epoch 19/500\n",
            "1/1 [==============================] - 0s 8ms/step - loss: 0.2119\n",
            "Epoch 20/500\n",
            "1/1 [==============================] - 0s 8ms/step - loss: 0.2113\n",
            "Epoch 21/500\n",
            "1/1 [==============================] - 0s 9ms/step - loss: 0.2106\n",
            "Epoch 22/500\n",
            "1/1 [==============================] - 0s 10ms/step - loss: 0.2099\n",
            "Epoch 23/500\n",
            "1/1 [==============================] - 0s 9ms/step - loss: 0.2092\n",
            "Epoch 24/500\n",
            "1/1 [==============================] - 0s 10ms/step - loss: 0.2084\n",
            "Epoch 25/500\n",
            "1/1 [==============================] - 0s 9ms/step - loss: 0.2077\n",
            "Epoch 26/500\n",
            "1/1 [==============================] - 0s 7ms/step - loss: 0.2070\n",
            "Epoch 27/500\n",
            "1/1 [==============================] - 0s 10ms/step - loss: 0.2062\n",
            "Epoch 28/500\n",
            "1/1 [==============================] - 0s 10ms/step - loss: 0.2055\n",
            "Epoch 29/500\n",
            "1/1 [==============================] - 0s 10ms/step - loss: 0.2047\n",
            "Epoch 30/500\n",
            "1/1 [==============================] - 0s 8ms/step - loss: 0.2039\n",
            "Epoch 31/500\n",
            "1/1 [==============================] - 0s 8ms/step - loss: 0.2031\n",
            "Epoch 32/500\n",
            "1/1 [==============================] - 0s 10ms/step - loss: 0.2023\n",
            "Epoch 33/500\n",
            "1/1 [==============================] - 0s 9ms/step - loss: 0.2015\n",
            "Epoch 34/500\n",
            "1/1 [==============================] - 0s 8ms/step - loss: 0.2006\n",
            "Epoch 35/500\n",
            "1/1 [==============================] - 0s 9ms/step - loss: 0.1998\n",
            "Epoch 36/500\n",
            "1/1 [==============================] - 0s 12ms/step - loss: 0.1990\n",
            "Epoch 37/500\n",
            "1/1 [==============================] - 0s 10ms/step - loss: 0.1981\n",
            "Epoch 38/500\n",
            "1/1 [==============================] - 0s 8ms/step - loss: 0.1972\n",
            "Epoch 39/500\n",
            "1/1 [==============================] - 0s 19ms/step - loss: 0.1963\n",
            "Epoch 40/500\n",
            "1/1 [==============================] - 0s 10ms/step - loss: 0.1954\n",
            "Epoch 41/500\n",
            "1/1 [==============================] - 0s 10ms/step - loss: 0.1945\n",
            "Epoch 42/500\n",
            "1/1 [==============================] - 0s 9ms/step - loss: 0.1936\n",
            "Epoch 43/500\n",
            "1/1 [==============================] - 0s 11ms/step - loss: 0.1927\n",
            "Epoch 44/500\n",
            "1/1 [==============================] - 0s 9ms/step - loss: 0.1917\n",
            "Epoch 45/500\n",
            "1/1 [==============================] - 0s 8ms/step - loss: 0.1908\n",
            "Epoch 46/500\n",
            "1/1 [==============================] - 0s 8ms/step - loss: 0.1898\n",
            "Epoch 47/500\n",
            "1/1 [==============================] - 0s 11ms/step - loss: 0.1888\n",
            "Epoch 48/500\n",
            "1/1 [==============================] - 0s 10ms/step - loss: 0.1878\n",
            "Epoch 49/500\n",
            "1/1 [==============================] - 0s 10ms/step - loss: 0.1868\n",
            "Epoch 50/500\n",
            "1/1 [==============================] - 0s 11ms/step - loss: 0.1858\n",
            "Epoch 51/500\n",
            "1/1 [==============================] - 0s 8ms/step - loss: 0.1848\n",
            "Epoch 52/500\n",
            "1/1 [==============================] - 0s 10ms/step - loss: 0.1837\n",
            "Epoch 53/500\n",
            "1/1 [==============================] - 0s 8ms/step - loss: 0.1827\n",
            "Epoch 54/500\n",
            "1/1 [==============================] - 0s 11ms/step - loss: 0.1816\n",
            "Epoch 55/500\n",
            "1/1 [==============================] - 0s 10ms/step - loss: 0.1806\n",
            "Epoch 56/500\n",
            "1/1 [==============================] - 0s 11ms/step - loss: 0.1795\n",
            "Epoch 57/500\n",
            "1/1 [==============================] - 0s 9ms/step - loss: 0.1784\n",
            "Epoch 58/500\n",
            "1/1 [==============================] - 0s 10ms/step - loss: 0.1773\n",
            "Epoch 59/500\n",
            "1/1 [==============================] - 0s 9ms/step - loss: 0.1762\n",
            "Epoch 60/500\n",
            "1/1 [==============================] - 0s 10ms/step - loss: 0.1751\n",
            "Epoch 61/500\n",
            "1/1 [==============================] - 0s 9ms/step - loss: 0.1740\n",
            "Epoch 62/500\n",
            "1/1 [==============================] - 0s 10ms/step - loss: 0.1728\n",
            "Epoch 63/500\n",
            "1/1 [==============================] - 0s 10ms/step - loss: 0.1717\n",
            "Epoch 64/500\n",
            "1/1 [==============================] - 0s 8ms/step - loss: 0.1705\n",
            "Epoch 65/500\n",
            "1/1 [==============================] - 0s 11ms/step - loss: 0.1694\n",
            "Epoch 66/500\n",
            "1/1 [==============================] - 0s 9ms/step - loss: 0.1682\n",
            "Epoch 67/500\n",
            "1/1 [==============================] - 0s 8ms/step - loss: 0.1670\n",
            "Epoch 68/500\n",
            "1/1 [==============================] - 0s 9ms/step - loss: 0.1658\n",
            "Epoch 69/500\n",
            "1/1 [==============================] - 0s 8ms/step - loss: 0.1646\n",
            "Epoch 70/500\n",
            "1/1 [==============================] - 0s 8ms/step - loss: 0.1634\n",
            "Epoch 71/500\n",
            "1/1 [==============================] - 0s 9ms/step - loss: 0.1622\n",
            "Epoch 72/500\n",
            "1/1 [==============================] - 0s 10ms/step - loss: 0.1610\n",
            "Epoch 73/500\n",
            "1/1 [==============================] - 0s 10ms/step - loss: 0.1597\n",
            "Epoch 74/500\n",
            "1/1 [==============================] - 0s 9ms/step - loss: 0.1585\n",
            "Epoch 75/500\n",
            "1/1 [==============================] - 0s 9ms/step - loss: 0.1572\n",
            "Epoch 76/500\n",
            "1/1 [==============================] - 0s 11ms/step - loss: 0.1560\n",
            "Epoch 77/500\n",
            "1/1 [==============================] - 0s 10ms/step - loss: 0.1547\n",
            "Epoch 78/500\n",
            "1/1 [==============================] - 0s 11ms/step - loss: 0.1535\n",
            "Epoch 79/500\n",
            "1/1 [==============================] - 0s 8ms/step - loss: 0.1522\n",
            "Epoch 80/500\n",
            "1/1 [==============================] - 0s 10ms/step - loss: 0.1509\n",
            "Epoch 81/500\n",
            "1/1 [==============================] - 0s 9ms/step - loss: 0.1496\n",
            "Epoch 82/500\n",
            "1/1 [==============================] - 0s 8ms/step - loss: 0.1484\n",
            "Epoch 83/500\n",
            "1/1 [==============================] - 0s 8ms/step - loss: 0.1471\n",
            "Epoch 84/500\n",
            "1/1 [==============================] - 0s 8ms/step - loss: 0.1458\n",
            "Epoch 85/500\n",
            "1/1 [==============================] - 0s 9ms/step - loss: 0.1445\n",
            "Epoch 86/500\n",
            "1/1 [==============================] - 0s 10ms/step - loss: 0.1432\n",
            "Epoch 87/500\n",
            "1/1 [==============================] - 0s 10ms/step - loss: 0.1419\n",
            "Epoch 88/500\n",
            "1/1 [==============================] - 0s 10ms/step - loss: 0.1406\n",
            "Epoch 89/500\n",
            "1/1 [==============================] - 0s 14ms/step - loss: 0.1392\n",
            "Epoch 90/500\n",
            "1/1 [==============================] - 0s 9ms/step - loss: 0.1379\n",
            "Epoch 91/500\n",
            "1/1 [==============================] - 0s 10ms/step - loss: 0.1366\n",
            "Epoch 92/500\n",
            "1/1 [==============================] - 0s 8ms/step - loss: 0.1353\n",
            "Epoch 93/500\n",
            "1/1 [==============================] - 0s 8ms/step - loss: 0.1340\n",
            "Epoch 94/500\n",
            "1/1 [==============================] - 0s 9ms/step - loss: 0.1327\n",
            "Epoch 95/500\n",
            "1/1 [==============================] - 0s 9ms/step - loss: 0.1313\n",
            "Epoch 96/500\n",
            "1/1 [==============================] - 0s 7ms/step - loss: 0.1300\n",
            "Epoch 97/500\n",
            "1/1 [==============================] - 0s 8ms/step - loss: 0.1287\n",
            "Epoch 98/500\n",
            "1/1 [==============================] - 0s 10ms/step - loss: 0.1274\n",
            "Epoch 99/500\n",
            "1/1 [==============================] - 0s 12ms/step - loss: 0.1261\n",
            "Epoch 100/500\n",
            "1/1 [==============================] - 0s 10ms/step - loss: 0.1248\n",
            "Epoch 101/500\n",
            "1/1 [==============================] - 0s 9ms/step - loss: 0.1234\n",
            "Epoch 102/500\n",
            "1/1 [==============================] - 0s 8ms/step - loss: 0.1221\n",
            "Epoch 103/500\n",
            "1/1 [==============================] - 0s 8ms/step - loss: 0.1208\n",
            "Epoch 104/500\n",
            "1/1 [==============================] - 0s 10ms/step - loss: 0.1195\n",
            "Epoch 105/500\n",
            "1/1 [==============================] - 0s 9ms/step - loss: 0.1182\n",
            "Epoch 106/500\n",
            "1/1 [==============================] - 0s 7ms/step - loss: 0.1169\n",
            "Epoch 107/500\n",
            "1/1 [==============================] - 0s 9ms/step - loss: 0.1156\n",
            "Epoch 108/500\n",
            "1/1 [==============================] - 0s 8ms/step - loss: 0.1143\n",
            "Epoch 109/500\n",
            "1/1 [==============================] - 0s 11ms/step - loss: 0.1130\n",
            "Epoch 110/500\n",
            "1/1 [==============================] - 0s 9ms/step - loss: 0.1118\n",
            "Epoch 111/500\n",
            "1/1 [==============================] - 0s 8ms/step - loss: 0.1105\n",
            "Epoch 112/500\n",
            "1/1 [==============================] - 0s 10ms/step - loss: 0.1092\n",
            "Epoch 113/500\n",
            "1/1 [==============================] - 0s 9ms/step - loss: 0.1080\n",
            "Epoch 114/500\n",
            "1/1 [==============================] - 0s 8ms/step - loss: 0.1067\n",
            "Epoch 115/500\n",
            "1/1 [==============================] - 0s 10ms/step - loss: 0.1054\n",
            "Epoch 116/500\n",
            "1/1 [==============================] - 0s 8ms/step - loss: 0.1042\n",
            "Epoch 117/500\n",
            "1/1 [==============================] - 0s 9ms/step - loss: 0.1030\n",
            "Epoch 118/500\n",
            "1/1 [==============================] - 0s 10ms/step - loss: 0.1017\n",
            "Epoch 119/500\n",
            "1/1 [==============================] - 0s 9ms/step - loss: 0.1005\n",
            "Epoch 120/500\n",
            "1/1 [==============================] - 0s 10ms/step - loss: 0.0993\n",
            "Epoch 121/500\n",
            "1/1 [==============================] - 0s 11ms/step - loss: 0.0981\n",
            "Epoch 122/500\n",
            "1/1 [==============================] - 0s 9ms/step - loss: 0.0969\n",
            "Epoch 123/500\n",
            "1/1 [==============================] - 0s 8ms/step - loss: 0.0957\n",
            "Epoch 124/500\n",
            "1/1 [==============================] - 0s 9ms/step - loss: 0.0946\n",
            "Epoch 125/500\n",
            "1/1 [==============================] - 0s 10ms/step - loss: 0.0934\n",
            "Epoch 126/500\n",
            "1/1 [==============================] - 0s 11ms/step - loss: 0.0922\n",
            "Epoch 127/500\n",
            "1/1 [==============================] - 0s 8ms/step - loss: 0.0911\n",
            "Epoch 128/500\n",
            "1/1 [==============================] - 0s 11ms/step - loss: 0.0900\n",
            "Epoch 129/500\n",
            "1/1 [==============================] - 0s 8ms/step - loss: 0.0888\n",
            "Epoch 130/500\n",
            "1/1 [==============================] - 0s 8ms/step - loss: 0.0877\n",
            "Epoch 131/500\n",
            "1/1 [==============================] - 0s 8ms/step - loss: 0.0866\n",
            "Epoch 132/500\n",
            "1/1 [==============================] - 0s 9ms/step - loss: 0.0855\n",
            "Epoch 133/500\n",
            "1/1 [==============================] - 0s 7ms/step - loss: 0.0844\n",
            "Epoch 134/500\n",
            "1/1 [==============================] - 0s 8ms/step - loss: 0.0834\n",
            "Epoch 135/500\n",
            "1/1 [==============================] - 0s 8ms/step - loss: 0.0823\n",
            "Epoch 136/500\n",
            "1/1 [==============================] - 0s 10ms/step - loss: 0.0813\n",
            "Epoch 137/500\n",
            "1/1 [==============================] - 0s 9ms/step - loss: 0.0802\n",
            "Epoch 138/500\n",
            "1/1 [==============================] - 0s 10ms/step - loss: 0.0792\n",
            "Epoch 139/500\n",
            "1/1 [==============================] - 0s 8ms/step - loss: 0.0782\n",
            "Epoch 140/500\n",
            "1/1 [==============================] - 0s 8ms/step - loss: 0.0772\n",
            "Epoch 141/500\n",
            "1/1 [==============================] - 0s 8ms/step - loss: 0.0762\n",
            "Epoch 142/500\n",
            "1/1 [==============================] - 0s 8ms/step - loss: 0.0752\n",
            "Epoch 143/500\n",
            "1/1 [==============================] - 0s 11ms/step - loss: 0.0743\n",
            "Epoch 144/500\n",
            "1/1 [==============================] - 0s 9ms/step - loss: 0.0733\n",
            "Epoch 145/500\n",
            "1/1 [==============================] - 0s 9ms/step - loss: 0.0724\n",
            "Epoch 146/500\n",
            "1/1 [==============================] - 0s 10ms/step - loss: 0.0714\n",
            "Epoch 147/500\n",
            "1/1 [==============================] - 0s 8ms/step - loss: 0.0705\n",
            "Epoch 148/500\n",
            "1/1 [==============================] - 0s 12ms/step - loss: 0.0696\n",
            "Epoch 149/500\n",
            "1/1 [==============================] - 0s 10ms/step - loss: 0.0687\n",
            "Epoch 150/500\n",
            "1/1 [==============================] - 0s 11ms/step - loss: 0.0678\n",
            "Epoch 151/500\n",
            "1/1 [==============================] - 0s 8ms/step - loss: 0.0669\n",
            "Epoch 152/500\n",
            "1/1 [==============================] - 0s 8ms/step - loss: 0.0661\n",
            "Epoch 153/500\n",
            "1/1 [==============================] - 0s 8ms/step - loss: 0.0652\n",
            "Epoch 154/500\n",
            "1/1 [==============================] - 0s 8ms/step - loss: 0.0644\n",
            "Epoch 155/500\n",
            "1/1 [==============================] - 0s 8ms/step - loss: 0.0636\n",
            "Epoch 156/500\n",
            "1/1 [==============================] - 0s 8ms/step - loss: 0.0628\n",
            "Epoch 157/500\n",
            "1/1 [==============================] - 0s 10ms/step - loss: 0.0620\n",
            "Epoch 158/500\n",
            "1/1 [==============================] - 0s 12ms/step - loss: 0.0612\n",
            "Epoch 159/500\n",
            "1/1 [==============================] - 0s 11ms/step - loss: 0.0604\n",
            "Epoch 160/500\n",
            "1/1 [==============================] - 0s 10ms/step - loss: 0.0596\n",
            "Epoch 161/500\n",
            "1/1 [==============================] - 0s 17ms/step - loss: 0.0589\n",
            "Epoch 162/500\n",
            "1/1 [==============================] - 0s 10ms/step - loss: 0.0581\n",
            "Epoch 163/500\n",
            "1/1 [==============================] - 0s 12ms/step - loss: 0.0574\n",
            "Epoch 164/500\n",
            "1/1 [==============================] - 0s 9ms/step - loss: 0.0566\n",
            "Epoch 165/500\n",
            "1/1 [==============================] - 0s 10ms/step - loss: 0.0559\n",
            "Epoch 166/500\n",
            "1/1 [==============================] - 0s 8ms/step - loss: 0.0552\n",
            "Epoch 167/500\n",
            "1/1 [==============================] - 0s 9ms/step - loss: 0.0545\n",
            "Epoch 168/500\n",
            "1/1 [==============================] - 0s 13ms/step - loss: 0.0538\n",
            "Epoch 169/500\n",
            "1/1 [==============================] - 0s 10ms/step - loss: 0.0532\n",
            "Epoch 170/500\n",
            "1/1 [==============================] - 0s 10ms/step - loss: 0.0525\n",
            "Epoch 171/500\n",
            "1/1 [==============================] - 0s 10ms/step - loss: 0.0519\n",
            "Epoch 172/500\n",
            "1/1 [==============================] - 0s 11ms/step - loss: 0.0512\n",
            "Epoch 173/500\n",
            "1/1 [==============================] - 0s 10ms/step - loss: 0.0506\n",
            "Epoch 174/500\n",
            "1/1 [==============================] - 0s 9ms/step - loss: 0.0500\n",
            "Epoch 175/500\n",
            "1/1 [==============================] - 0s 10ms/step - loss: 0.0493\n",
            "Epoch 176/500\n",
            "1/1 [==============================] - 0s 12ms/step - loss: 0.0487\n",
            "Epoch 177/500\n",
            "1/1 [==============================] - 0s 8ms/step - loss: 0.0481\n",
            "Epoch 178/500\n",
            "1/1 [==============================] - 0s 8ms/step - loss: 0.0476\n",
            "Epoch 179/500\n",
            "1/1 [==============================] - 0s 10ms/step - loss: 0.0470\n",
            "Epoch 180/500\n",
            "1/1 [==============================] - 0s 11ms/step - loss: 0.0464\n",
            "Epoch 181/500\n",
            "1/1 [==============================] - 0s 27ms/step - loss: 0.0459\n",
            "Epoch 182/500\n",
            "1/1 [==============================] - 0s 40ms/step - loss: 0.0453\n",
            "Epoch 183/500\n",
            "1/1 [==============================] - 0s 30ms/step - loss: 0.0448\n",
            "Epoch 184/500\n",
            "1/1 [==============================] - 0s 34ms/step - loss: 0.0442\n",
            "Epoch 185/500\n",
            "1/1 [==============================] - 0s 16ms/step - loss: 0.0437\n",
            "Epoch 186/500\n",
            "1/1 [==============================] - 0s 30ms/step - loss: 0.0432\n",
            "Epoch 187/500\n",
            "1/1 [==============================] - 0s 13ms/step - loss: 0.0427\n",
            "Epoch 188/500\n",
            "1/1 [==============================] - 0s 10ms/step - loss: 0.0422\n",
            "Epoch 189/500\n",
            "1/1 [==============================] - 0s 12ms/step - loss: 0.0417\n",
            "Epoch 190/500\n",
            "1/1 [==============================] - 0s 10ms/step - loss: 0.0412\n",
            "Epoch 191/500\n",
            "1/1 [==============================] - 0s 10ms/step - loss: 0.0407\n",
            "Epoch 192/500\n",
            "1/1 [==============================] - 0s 11ms/step - loss: 0.0403\n",
            "Epoch 193/500\n",
            "1/1 [==============================] - 0s 10ms/step - loss: 0.0398\n",
            "Epoch 194/500\n",
            "1/1 [==============================] - 0s 10ms/step - loss: 0.0393\n",
            "Epoch 195/500\n",
            "1/1 [==============================] - 0s 8ms/step - loss: 0.0389\n",
            "Epoch 196/500\n",
            "1/1 [==============================] - 0s 12ms/step - loss: 0.0384\n",
            "Epoch 197/500\n",
            "1/1 [==============================] - 0s 8ms/step - loss: 0.0380\n",
            "Epoch 198/500\n",
            "1/1 [==============================] - 0s 9ms/step - loss: 0.0376\n",
            "Epoch 199/500\n",
            "1/1 [==============================] - 0s 8ms/step - loss: 0.0372\n",
            "Epoch 200/500\n",
            "1/1 [==============================] - 0s 8ms/step - loss: 0.0367\n",
            "Epoch 201/500\n",
            "1/1 [==============================] - 0s 9ms/step - loss: 0.0363\n",
            "Epoch 202/500\n",
            "1/1 [==============================] - 0s 11ms/step - loss: 0.0359\n",
            "Epoch 203/500\n",
            "1/1 [==============================] - 0s 9ms/step - loss: 0.0355\n",
            "Epoch 204/500\n",
            "1/1 [==============================] - 0s 8ms/step - loss: 0.0352\n",
            "Epoch 205/500\n",
            "1/1 [==============================] - 0s 27ms/step - loss: 0.0348\n",
            "Epoch 206/500\n",
            "1/1 [==============================] - 0s 28ms/step - loss: 0.0344\n",
            "Epoch 207/500\n",
            "1/1 [==============================] - 0s 30ms/step - loss: 0.0340\n",
            "Epoch 208/500\n",
            "1/1 [==============================] - 0s 33ms/step - loss: 0.0337\n",
            "Epoch 209/500\n",
            "1/1 [==============================] - 0s 25ms/step - loss: 0.0333\n",
            "Epoch 210/500\n",
            "1/1 [==============================] - 0s 11ms/step - loss: 0.0329\n",
            "Epoch 211/500\n",
            "1/1 [==============================] - 0s 14ms/step - loss: 0.0326\n",
            "Epoch 212/500\n",
            "1/1 [==============================] - 0s 11ms/step - loss: 0.0322\n",
            "Epoch 213/500\n",
            "1/1 [==============================] - 0s 13ms/step - loss: 0.0319\n",
            "Epoch 214/500\n",
            "1/1 [==============================] - 0s 10ms/step - loss: 0.0316\n",
            "Epoch 215/500\n",
            "1/1 [==============================] - 0s 8ms/step - loss: 0.0312\n",
            "Epoch 216/500\n",
            "1/1 [==============================] - 0s 8ms/step - loss: 0.0309\n",
            "Epoch 217/500\n",
            "1/1 [==============================] - 0s 12ms/step - loss: 0.0306\n",
            "Epoch 218/500\n",
            "1/1 [==============================] - 0s 11ms/step - loss: 0.0303\n",
            "Epoch 219/500\n",
            "1/1 [==============================] - 0s 11ms/step - loss: 0.0300\n",
            "Epoch 220/500\n",
            "1/1 [==============================] - 0s 9ms/step - loss: 0.0297\n",
            "Epoch 221/500\n",
            "1/1 [==============================] - 0s 9ms/step - loss: 0.0294\n",
            "Epoch 222/500\n",
            "1/1 [==============================] - 0s 10ms/step - loss: 0.0291\n",
            "Epoch 223/500\n",
            "1/1 [==============================] - 0s 8ms/step - loss: 0.0288\n",
            "Epoch 224/500\n",
            "1/1 [==============================] - 0s 8ms/step - loss: 0.0285\n",
            "Epoch 225/500\n",
            "1/1 [==============================] - 0s 9ms/step - loss: 0.0282\n",
            "Epoch 226/500\n",
            "1/1 [==============================] - 0s 12ms/step - loss: 0.0279\n",
            "Epoch 227/500\n",
            "1/1 [==============================] - 0s 8ms/step - loss: 0.0277\n",
            "Epoch 228/500\n",
            "1/1 [==============================] - 0s 12ms/step - loss: 0.0274\n",
            "Epoch 229/500\n",
            "1/1 [==============================] - 0s 8ms/step - loss: 0.0271\n",
            "Epoch 230/500\n",
            "1/1 [==============================] - 0s 9ms/step - loss: 0.0269\n",
            "Epoch 231/500\n",
            "1/1 [==============================] - 0s 9ms/step - loss: 0.0266\n",
            "Epoch 232/500\n",
            "1/1 [==============================] - 0s 10ms/step - loss: 0.0263\n",
            "Epoch 233/500\n",
            "1/1 [==============================] - 0s 8ms/step - loss: 0.0261\n",
            "Epoch 234/500\n",
            "1/1 [==============================] - 0s 8ms/step - loss: 0.0258\n",
            "Epoch 235/500\n",
            "1/1 [==============================] - 0s 10ms/step - loss: 0.0256\n",
            "Epoch 236/500\n",
            "1/1 [==============================] - 0s 8ms/step - loss: 0.0254\n",
            "Epoch 237/500\n",
            "1/1 [==============================] - 0s 8ms/step - loss: 0.0251\n",
            "Epoch 238/500\n",
            "1/1 [==============================] - 0s 10ms/step - loss: 0.0249\n",
            "Epoch 239/500\n",
            "1/1 [==============================] - 0s 9ms/step - loss: 0.0247\n",
            "Epoch 240/500\n",
            "1/1 [==============================] - 0s 9ms/step - loss: 0.0244\n",
            "Epoch 241/500\n",
            "1/1 [==============================] - 0s 8ms/step - loss: 0.0242\n",
            "Epoch 242/500\n",
            "1/1 [==============================] - 0s 8ms/step - loss: 0.0240\n",
            "Epoch 243/500\n",
            "1/1 [==============================] - 0s 9ms/step - loss: 0.0238\n",
            "Epoch 244/500\n",
            "1/1 [==============================] - 0s 8ms/step - loss: 0.0236\n",
            "Epoch 245/500\n",
            "1/1 [==============================] - 0s 12ms/step - loss: 0.0233\n",
            "Epoch 246/500\n",
            "1/1 [==============================] - 0s 10ms/step - loss: 0.0231\n",
            "Epoch 247/500\n",
            "1/1 [==============================] - 0s 9ms/step - loss: 0.0229\n",
            "Epoch 248/500\n",
            "1/1 [==============================] - 0s 8ms/step - loss: 0.0227\n",
            "Epoch 249/500\n",
            "1/1 [==============================] - 0s 11ms/step - loss: 0.0225\n",
            "Epoch 250/500\n",
            "1/1 [==============================] - 0s 12ms/step - loss: 0.0223\n",
            "Epoch 251/500\n",
            "1/1 [==============================] - 0s 11ms/step - loss: 0.0221\n",
            "Epoch 252/500\n",
            "1/1 [==============================] - 0s 8ms/step - loss: 0.0219\n",
            "Epoch 253/500\n",
            "1/1 [==============================] - 0s 11ms/step - loss: 0.0217\n",
            "Epoch 254/500\n",
            "1/1 [==============================] - 0s 9ms/step - loss: 0.0216\n",
            "Epoch 255/500\n",
            "1/1 [==============================] - 0s 12ms/step - loss: 0.0214\n",
            "Epoch 256/500\n",
            "1/1 [==============================] - 0s 13ms/step - loss: 0.0212\n",
            "Epoch 257/500\n",
            "1/1 [==============================] - 0s 8ms/step - loss: 0.0210\n",
            "Epoch 258/500\n",
            "1/1 [==============================] - 0s 8ms/step - loss: 0.0208\n",
            "Epoch 259/500\n",
            "1/1 [==============================] - 0s 10ms/step - loss: 0.0207\n",
            "Epoch 260/500\n",
            "1/1 [==============================] - 0s 8ms/step - loss: 0.0205\n",
            "Epoch 261/500\n",
            "1/1 [==============================] - 0s 11ms/step - loss: 0.0203\n",
            "Epoch 262/500\n",
            "1/1 [==============================] - 0s 12ms/step - loss: 0.0202\n",
            "Epoch 263/500\n",
            "1/1 [==============================] - 0s 10ms/step - loss: 0.0200\n",
            "Epoch 264/500\n",
            "1/1 [==============================] - 0s 8ms/step - loss: 0.0198\n",
            "Epoch 265/500\n",
            "1/1 [==============================] - 0s 10ms/step - loss: 0.0197\n",
            "Epoch 266/500\n",
            "1/1 [==============================] - 0s 12ms/step - loss: 0.0195\n",
            "Epoch 267/500\n",
            "1/1 [==============================] - 0s 9ms/step - loss: 0.0193\n",
            "Epoch 268/500\n",
            "1/1 [==============================] - 0s 8ms/step - loss: 0.0192\n",
            "Epoch 269/500\n",
            "1/1 [==============================] - 0s 10ms/step - loss: 0.0190\n",
            "Epoch 270/500\n",
            "1/1 [==============================] - 0s 8ms/step - loss: 0.0189\n",
            "Epoch 271/500\n",
            "1/1 [==============================] - 0s 13ms/step - loss: 0.0187\n",
            "Epoch 272/500\n",
            "1/1 [==============================] - 0s 8ms/step - loss: 0.0186\n",
            "Epoch 273/500\n",
            "1/1 [==============================] - 0s 10ms/step - loss: 0.0184\n",
            "Epoch 274/500\n",
            "1/1 [==============================] - 0s 8ms/step - loss: 0.0183\n",
            "Epoch 275/500\n",
            "1/1 [==============================] - 0s 11ms/step - loss: 0.0182\n",
            "Epoch 276/500\n",
            "1/1 [==============================] - 0s 12ms/step - loss: 0.0180\n",
            "Epoch 277/500\n",
            "1/1 [==============================] - 0s 9ms/step - loss: 0.0179\n",
            "Epoch 278/500\n",
            "1/1 [==============================] - 0s 8ms/step - loss: 0.0177\n",
            "Epoch 279/500\n",
            "1/1 [==============================] - 0s 8ms/step - loss: 0.0176\n",
            "Epoch 280/500\n",
            "1/1 [==============================] - 0s 8ms/step - loss: 0.0175\n",
            "Epoch 281/500\n",
            "1/1 [==============================] - 0s 10ms/step - loss: 0.0173\n",
            "Epoch 282/500\n",
            "1/1 [==============================] - 0s 8ms/step - loss: 0.0172\n",
            "Epoch 283/500\n",
            "1/1 [==============================] - 0s 8ms/step - loss: 0.0171\n",
            "Epoch 284/500\n",
            "1/1 [==============================] - 0s 8ms/step - loss: 0.0169\n",
            "Epoch 285/500\n",
            "1/1 [==============================] - 0s 11ms/step - loss: 0.0168\n",
            "Epoch 286/500\n",
            "1/1 [==============================] - 0s 11ms/step - loss: 0.0167\n",
            "Epoch 287/500\n",
            "1/1 [==============================] - 0s 8ms/step - loss: 0.0166\n",
            "Epoch 288/500\n",
            "1/1 [==============================] - 0s 12ms/step - loss: 0.0165\n",
            "Epoch 289/500\n",
            "1/1 [==============================] - 0s 8ms/step - loss: 0.0163\n",
            "Epoch 290/500\n",
            "1/1 [==============================] - 0s 9ms/step - loss: 0.0162\n",
            "Epoch 291/500\n",
            "1/1 [==============================] - 0s 13ms/step - loss: 0.0161\n",
            "Epoch 292/500\n",
            "1/1 [==============================] - 0s 9ms/step - loss: 0.0160\n",
            "Epoch 293/500\n",
            "1/1 [==============================] - 0s 8ms/step - loss: 0.0159\n",
            "Epoch 294/500\n",
            "1/1 [==============================] - 0s 9ms/step - loss: 0.0158\n",
            "Epoch 295/500\n",
            "1/1 [==============================] - 0s 11ms/step - loss: 0.0156\n",
            "Epoch 296/500\n",
            "1/1 [==============================] - 0s 9ms/step - loss: 0.0155\n",
            "Epoch 297/500\n",
            "1/1 [==============================] - 0s 9ms/step - loss: 0.0154\n",
            "Epoch 298/500\n",
            "1/1 [==============================] - 0s 8ms/step - loss: 0.0153\n",
            "Epoch 299/500\n",
            "1/1 [==============================] - 0s 8ms/step - loss: 0.0152\n",
            "Epoch 300/500\n",
            "1/1 [==============================] - 0s 8ms/step - loss: 0.0151\n",
            "Epoch 301/500\n",
            "1/1 [==============================] - 0s 10ms/step - loss: 0.0150\n",
            "Epoch 302/500\n",
            "1/1 [==============================] - 0s 10ms/step - loss: 0.0149\n",
            "Epoch 303/500\n",
            "1/1 [==============================] - 0s 9ms/step - loss: 0.0148\n",
            "Epoch 304/500\n",
            "1/1 [==============================] - 0s 8ms/step - loss: 0.0147\n",
            "Epoch 305/500\n",
            "1/1 [==============================] - 0s 9ms/step - loss: 0.0146\n",
            "Epoch 306/500\n",
            "1/1 [==============================] - 0s 8ms/step - loss: 0.0145\n",
            "Epoch 307/500\n",
            "1/1 [==============================] - 0s 10ms/step - loss: 0.0144\n",
            "Epoch 308/500\n",
            "1/1 [==============================] - 0s 12ms/step - loss: 0.0143\n",
            "Epoch 309/500\n",
            "1/1 [==============================] - 0s 9ms/step - loss: 0.0142\n",
            "Epoch 310/500\n",
            "1/1 [==============================] - 0s 9ms/step - loss: 0.0141\n",
            "Epoch 311/500\n",
            "1/1 [==============================] - 0s 9ms/step - loss: 0.0140\n",
            "Epoch 312/500\n",
            "1/1 [==============================] - 0s 8ms/step - loss: 0.0139\n",
            "Epoch 313/500\n",
            "1/1 [==============================] - 0s 10ms/step - loss: 0.0138\n",
            "Epoch 314/500\n",
            "1/1 [==============================] - 0s 8ms/step - loss: 0.0137\n",
            "Epoch 315/500\n",
            "1/1 [==============================] - 0s 9ms/step - loss: 0.0137\n",
            "Epoch 316/500\n",
            "1/1 [==============================] - 0s 8ms/step - loss: 0.0136\n",
            "Epoch 317/500\n",
            "1/1 [==============================] - 0s 10ms/step - loss: 0.0135\n",
            "Epoch 318/500\n",
            "1/1 [==============================] - 0s 16ms/step - loss: 0.0134\n",
            "Epoch 319/500\n",
            "1/1 [==============================] - 0s 10ms/step - loss: 0.0133\n",
            "Epoch 320/500\n",
            "1/1 [==============================] - 0s 9ms/step - loss: 0.0132\n",
            "Epoch 321/500\n",
            "1/1 [==============================] - 0s 8ms/step - loss: 0.0131\n",
            "Epoch 322/500\n",
            "1/1 [==============================] - 0s 9ms/step - loss: 0.0131\n",
            "Epoch 323/500\n",
            "1/1 [==============================] - 0s 9ms/step - loss: 0.0130\n",
            "Epoch 324/500\n",
            "1/1 [==============================] - 0s 8ms/step - loss: 0.0129\n",
            "Epoch 325/500\n",
            "1/1 [==============================] - 0s 9ms/step - loss: 0.0128\n",
            "Epoch 326/500\n",
            "1/1 [==============================] - 0s 8ms/step - loss: 0.0127\n",
            "Epoch 327/500\n",
            "1/1 [==============================] - 0s 16ms/step - loss: 0.0127\n",
            "Epoch 328/500\n",
            "1/1 [==============================] - 0s 11ms/step - loss: 0.0126\n",
            "Epoch 329/500\n",
            "1/1 [==============================] - 0s 11ms/step - loss: 0.0125\n",
            "Epoch 330/500\n",
            "1/1 [==============================] - 0s 11ms/step - loss: 0.0124\n",
            "Epoch 331/500\n",
            "1/1 [==============================] - 0s 10ms/step - loss: 0.0123\n",
            "Epoch 332/500\n",
            "1/1 [==============================] - 0s 12ms/step - loss: 0.0123\n",
            "Epoch 333/500\n",
            "1/1 [==============================] - 0s 13ms/step - loss: 0.0122\n",
            "Epoch 334/500\n",
            "1/1 [==============================] - 0s 9ms/step - loss: 0.0121\n",
            "Epoch 335/500\n",
            "1/1 [==============================] - 0s 11ms/step - loss: 0.0121\n",
            "Epoch 336/500\n",
            "1/1 [==============================] - 0s 10ms/step - loss: 0.0120\n",
            "Epoch 337/500\n",
            "1/1 [==============================] - 0s 10ms/step - loss: 0.0119\n",
            "Epoch 338/500\n",
            "1/1 [==============================] - 0s 8ms/step - loss: 0.0118\n",
            "Epoch 339/500\n",
            "1/1 [==============================] - 0s 10ms/step - loss: 0.0118\n",
            "Epoch 340/500\n",
            "1/1 [==============================] - 0s 10ms/step - loss: 0.0117\n",
            "Epoch 341/500\n",
            "1/1 [==============================] - 0s 10ms/step - loss: 0.0116\n",
            "Epoch 342/500\n",
            "1/1 [==============================] - 0s 10ms/step - loss: 0.0116\n",
            "Epoch 343/500\n",
            "1/1 [==============================] - 0s 11ms/step - loss: 0.0115\n",
            "Epoch 344/500\n",
            "1/1 [==============================] - 0s 10ms/step - loss: 0.0114\n",
            "Epoch 345/500\n",
            "1/1 [==============================] - 0s 8ms/step - loss: 0.0114\n",
            "Epoch 346/500\n",
            "1/1 [==============================] - 0s 16ms/step - loss: 0.0113\n",
            "Epoch 347/500\n",
            "1/1 [==============================] - 0s 20ms/step - loss: 0.0112\n",
            "Epoch 348/500\n",
            "1/1 [==============================] - 0s 9ms/step - loss: 0.0112\n",
            "Epoch 349/500\n",
            "1/1 [==============================] - 0s 8ms/step - loss: 0.0111\n",
            "Epoch 350/500\n",
            "1/1 [==============================] - 0s 10ms/step - loss: 0.0110\n",
            "Epoch 351/500\n",
            "1/1 [==============================] - 0s 12ms/step - loss: 0.0110\n",
            "Epoch 352/500\n",
            "1/1 [==============================] - 0s 9ms/step - loss: 0.0109\n",
            "Epoch 353/500\n",
            "1/1 [==============================] - 0s 12ms/step - loss: 0.0109\n",
            "Epoch 354/500\n",
            "1/1 [==============================] - 0s 8ms/step - loss: 0.0108\n",
            "Epoch 355/500\n",
            "1/1 [==============================] - 0s 8ms/step - loss: 0.0107\n",
            "Epoch 356/500\n",
            "1/1 [==============================] - 0s 8ms/step - loss: 0.0107\n",
            "Epoch 357/500\n",
            "1/1 [==============================] - 0s 8ms/step - loss: 0.0106\n",
            "Epoch 358/500\n",
            "1/1 [==============================] - 0s 10ms/step - loss: 0.0106\n",
            "Epoch 359/500\n",
            "1/1 [==============================] - 0s 12ms/step - loss: 0.0105\n",
            "Epoch 360/500\n",
            "1/1 [==============================] - 0s 8ms/step - loss: 0.0105\n",
            "Epoch 361/500\n",
            "1/1 [==============================] - 0s 17ms/step - loss: 0.0104\n",
            "Epoch 362/500\n",
            "1/1 [==============================] - 0s 9ms/step - loss: 0.0103\n",
            "Epoch 363/500\n",
            "1/1 [==============================] - 0s 8ms/step - loss: 0.0103\n",
            "Epoch 364/500\n",
            "1/1 [==============================] - 0s 9ms/step - loss: 0.0102\n",
            "Epoch 365/500\n",
            "1/1 [==============================] - 0s 8ms/step - loss: 0.0102\n",
            "Epoch 366/500\n",
            "1/1 [==============================] - 0s 9ms/step - loss: 0.0101\n",
            "Epoch 367/500\n",
            "1/1 [==============================] - 0s 12ms/step - loss: 0.0101\n",
            "Epoch 368/500\n",
            "1/1 [==============================] - 0s 11ms/step - loss: 0.0100\n",
            "Epoch 369/500\n",
            "1/1 [==============================] - 0s 12ms/step - loss: 0.0100\n",
            "Epoch 370/500\n",
            "1/1 [==============================] - 0s 9ms/step - loss: 0.0099\n",
            "Epoch 371/500\n",
            "1/1 [==============================] - 0s 9ms/step - loss: 0.0099\n",
            "Epoch 372/500\n",
            "1/1 [==============================] - 0s 9ms/step - loss: 0.0098\n",
            "Epoch 373/500\n",
            "1/1 [==============================] - 0s 13ms/step - loss: 0.0098\n",
            "Epoch 374/500\n",
            "1/1 [==============================] - 0s 13ms/step - loss: 0.0097\n",
            "Epoch 375/500\n",
            "1/1 [==============================] - 0s 11ms/step - loss: 0.0097\n",
            "Epoch 376/500\n",
            "1/1 [==============================] - 0s 9ms/step - loss: 0.0096\n",
            "Epoch 377/500\n",
            "1/1 [==============================] - 0s 9ms/step - loss: 0.0096\n",
            "Epoch 378/500\n",
            "1/1 [==============================] - 0s 9ms/step - loss: 0.0095\n",
            "Epoch 379/500\n",
            "1/1 [==============================] - 0s 10ms/step - loss: 0.0095\n",
            "Epoch 380/500\n",
            "1/1 [==============================] - 0s 9ms/step - loss: 0.0094\n",
            "Epoch 381/500\n",
            "1/1 [==============================] - 0s 9ms/step - loss: 0.0094\n",
            "Epoch 382/500\n",
            "1/1 [==============================] - 0s 8ms/step - loss: 0.0093\n",
            "Epoch 383/500\n",
            "1/1 [==============================] - 0s 13ms/step - loss: 0.0093\n",
            "Epoch 384/500\n",
            "1/1 [==============================] - 0s 9ms/step - loss: 0.0092\n",
            "Epoch 385/500\n",
            "1/1 [==============================] - 0s 11ms/step - loss: 0.0092\n",
            "Epoch 386/500\n",
            "1/1 [==============================] - 0s 10ms/step - loss: 0.0091\n",
            "Epoch 387/500\n",
            "1/1 [==============================] - 0s 10ms/step - loss: 0.0091\n",
            "Epoch 388/500\n",
            "1/1 [==============================] - 0s 11ms/step - loss: 0.0090\n",
            "Epoch 389/500\n",
            "1/1 [==============================] - 0s 10ms/step - loss: 0.0090\n",
            "Epoch 390/500\n",
            "1/1 [==============================] - 0s 8ms/step - loss: 0.0090\n",
            "Epoch 391/500\n",
            "1/1 [==============================] - 0s 10ms/step - loss: 0.0089\n",
            "Epoch 392/500\n",
            "1/1 [==============================] - 0s 8ms/step - loss: 0.0089\n",
            "Epoch 393/500\n",
            "1/1 [==============================] - 0s 10ms/step - loss: 0.0088\n",
            "Epoch 394/500\n",
            "1/1 [==============================] - 0s 10ms/step - loss: 0.0088\n",
            "Epoch 395/500\n",
            "1/1 [==============================] - 0s 10ms/step - loss: 0.0087\n",
            "Epoch 396/500\n",
            "1/1 [==============================] - 0s 9ms/step - loss: 0.0087\n",
            "Epoch 397/500\n",
            "1/1 [==============================] - 0s 8ms/step - loss: 0.0087\n",
            "Epoch 398/500\n",
            "1/1 [==============================] - 0s 14ms/step - loss: 0.0086\n",
            "Epoch 399/500\n",
            "1/1 [==============================] - 0s 14ms/step - loss: 0.0086\n",
            "Epoch 400/500\n",
            "1/1 [==============================] - 0s 12ms/step - loss: 0.0085\n",
            "Epoch 401/500\n",
            "1/1 [==============================] - 0s 10ms/step - loss: 0.0085\n",
            "Epoch 402/500\n",
            "1/1 [==============================] - 0s 8ms/step - loss: 0.0085\n",
            "Epoch 403/500\n",
            "1/1 [==============================] - 0s 10ms/step - loss: 0.0084\n",
            "Epoch 404/500\n",
            "1/1 [==============================] - 0s 13ms/step - loss: 0.0084\n",
            "Epoch 405/500\n",
            "1/1 [==============================] - 0s 9ms/step - loss: 0.0083\n",
            "Epoch 406/500\n",
            "1/1 [==============================] - 0s 8ms/step - loss: 0.0083\n",
            "Epoch 407/500\n",
            "1/1 [==============================] - 0s 11ms/step - loss: 0.0083\n",
            "Epoch 408/500\n",
            "1/1 [==============================] - 0s 10ms/step - loss: 0.0082\n",
            "Epoch 409/500\n",
            "1/1 [==============================] - 0s 8ms/step - loss: 0.0082\n",
            "Epoch 410/500\n",
            "1/1 [==============================] - 0s 10ms/step - loss: 0.0082\n",
            "Epoch 411/500\n",
            "1/1 [==============================] - 0s 8ms/step - loss: 0.0081\n",
            "Epoch 412/500\n",
            "1/1 [==============================] - 0s 10ms/step - loss: 0.0081\n",
            "Epoch 413/500\n",
            "1/1 [==============================] - 0s 12ms/step - loss: 0.0080\n",
            "Epoch 414/500\n",
            "1/1 [==============================] - 0s 10ms/step - loss: 0.0080\n",
            "Epoch 415/500\n",
            "1/1 [==============================] - 0s 8ms/step - loss: 0.0080\n",
            "Epoch 416/500\n",
            "1/1 [==============================] - 0s 8ms/step - loss: 0.0079\n",
            "Epoch 417/500\n",
            "1/1 [==============================] - 0s 10ms/step - loss: 0.0079\n",
            "Epoch 418/500\n",
            "1/1 [==============================] - 0s 11ms/step - loss: 0.0079\n",
            "Epoch 419/500\n",
            "1/1 [==============================] - 0s 11ms/step - loss: 0.0078\n",
            "Epoch 420/500\n",
            "1/1 [==============================] - 0s 11ms/step - loss: 0.0078\n",
            "Epoch 421/500\n",
            "1/1 [==============================] - 0s 8ms/step - loss: 0.0078\n",
            "Epoch 422/500\n",
            "1/1 [==============================] - 0s 10ms/step - loss: 0.0077\n",
            "Epoch 423/500\n",
            "1/1 [==============================] - 0s 10ms/step - loss: 0.0077\n",
            "Epoch 424/500\n",
            "1/1 [==============================] - 0s 11ms/step - loss: 0.0077\n",
            "Epoch 425/500\n",
            "1/1 [==============================] - 0s 10ms/step - loss: 0.0076\n",
            "Epoch 426/500\n",
            "1/1 [==============================] - 0s 10ms/step - loss: 0.0076\n",
            "Epoch 427/500\n",
            "1/1 [==============================] - 0s 10ms/step - loss: 0.0076\n",
            "Epoch 428/500\n",
            "1/1 [==============================] - 0s 10ms/step - loss: 0.0075\n",
            "Epoch 429/500\n",
            "1/1 [==============================] - 0s 9ms/step - loss: 0.0075\n",
            "Epoch 430/500\n",
            "1/1 [==============================] - 0s 13ms/step - loss: 0.0075\n",
            "Epoch 431/500\n",
            "1/1 [==============================] - 0s 9ms/step - loss: 0.0074\n",
            "Epoch 432/500\n",
            "1/1 [==============================] - 0s 11ms/step - loss: 0.0074\n",
            "Epoch 433/500\n",
            "1/1 [==============================] - 0s 10ms/step - loss: 0.0074\n",
            "Epoch 434/500\n",
            "1/1 [==============================] - 0s 11ms/step - loss: 0.0073\n",
            "Epoch 435/500\n",
            "1/1 [==============================] - 0s 9ms/step - loss: 0.0073\n",
            "Epoch 436/500\n",
            "1/1 [==============================] - 0s 9ms/step - loss: 0.0073\n",
            "Epoch 437/500\n",
            "1/1 [==============================] - 0s 10ms/step - loss: 0.0073\n",
            "Epoch 438/500\n",
            "1/1 [==============================] - 0s 9ms/step - loss: 0.0072\n",
            "Epoch 439/500\n",
            "1/1 [==============================] - 0s 11ms/step - loss: 0.0072\n",
            "Epoch 440/500\n",
            "1/1 [==============================] - 0s 11ms/step - loss: 0.0072\n",
            "Epoch 441/500\n",
            "1/1 [==============================] - 0s 10ms/step - loss: 0.0071\n",
            "Epoch 442/500\n",
            "1/1 [==============================] - 0s 12ms/step - loss: 0.0071\n",
            "Epoch 443/500\n",
            "1/1 [==============================] - 0s 8ms/step - loss: 0.0071\n",
            "Epoch 444/500\n",
            "1/1 [==============================] - 0s 11ms/step - loss: 0.0070\n",
            "Epoch 445/500\n",
            "1/1 [==============================] - 0s 11ms/step - loss: 0.0070\n",
            "Epoch 446/500\n",
            "1/1 [==============================] - 0s 11ms/step - loss: 0.0070\n",
            "Epoch 447/500\n",
            "1/1 [==============================] - 0s 8ms/step - loss: 0.0070\n",
            "Epoch 448/500\n",
            "1/1 [==============================] - 0s 9ms/step - loss: 0.0069\n",
            "Epoch 449/500\n",
            "1/1 [==============================] - 0s 11ms/step - loss: 0.0069\n",
            "Epoch 450/500\n",
            "1/1 [==============================] - 0s 9ms/step - loss: 0.0069\n",
            "Epoch 451/500\n",
            "1/1 [==============================] - 0s 11ms/step - loss: 0.0069\n",
            "Epoch 452/500\n",
            "1/1 [==============================] - 0s 9ms/step - loss: 0.0068\n",
            "Epoch 453/500\n",
            "1/1 [==============================] - 0s 9ms/step - loss: 0.0068\n",
            "Epoch 454/500\n",
            "1/1 [==============================] - 0s 10ms/step - loss: 0.0068\n",
            "Epoch 455/500\n",
            "1/1 [==============================] - 0s 11ms/step - loss: 0.0067\n",
            "Epoch 456/500\n",
            "1/1 [==============================] - 0s 8ms/step - loss: 0.0067\n",
            "Epoch 457/500\n",
            "1/1 [==============================] - 0s 8ms/step - loss: 0.0067\n",
            "Epoch 458/500\n",
            "1/1 [==============================] - 0s 10ms/step - loss: 0.0067\n",
            "Epoch 459/500\n",
            "1/1 [==============================] - 0s 8ms/step - loss: 0.0066\n",
            "Epoch 460/500\n",
            "1/1 [==============================] - 0s 8ms/step - loss: 0.0066\n",
            "Epoch 461/500\n",
            "1/1 [==============================] - 0s 9ms/step - loss: 0.0066\n",
            "Epoch 462/500\n",
            "1/1 [==============================] - 0s 9ms/step - loss: 0.0066\n",
            "Epoch 463/500\n",
            "1/1 [==============================] - 0s 9ms/step - loss: 0.0065\n",
            "Epoch 464/500\n",
            "1/1 [==============================] - 0s 11ms/step - loss: 0.0065\n",
            "Epoch 465/500\n",
            "1/1 [==============================] - 0s 9ms/step - loss: 0.0065\n",
            "Epoch 466/500\n",
            "1/1 [==============================] - 0s 14ms/step - loss: 0.0065\n",
            "Epoch 467/500\n",
            "1/1 [==============================] - 0s 9ms/step - loss: 0.0064\n",
            "Epoch 468/500\n",
            "1/1 [==============================] - 0s 10ms/step - loss: 0.0064\n",
            "Epoch 469/500\n",
            "1/1 [==============================] - 0s 9ms/step - loss: 0.0064\n",
            "Epoch 470/500\n",
            "1/1 [==============================] - 0s 9ms/step - loss: 0.0064\n",
            "Epoch 471/500\n",
            "1/1 [==============================] - 0s 10ms/step - loss: 0.0063\n",
            "Epoch 472/500\n",
            "1/1 [==============================] - 0s 12ms/step - loss: 0.0063\n",
            "Epoch 473/500\n",
            "1/1 [==============================] - 0s 11ms/step - loss: 0.0063\n",
            "Epoch 474/500\n",
            "1/1 [==============================] - 0s 8ms/step - loss: 0.0063\n",
            "Epoch 475/500\n",
            "1/1 [==============================] - 0s 11ms/step - loss: 0.0062\n",
            "Epoch 476/500\n",
            "1/1 [==============================] - 0s 8ms/step - loss: 0.0062\n",
            "Epoch 477/500\n",
            "1/1 [==============================] - 0s 11ms/step - loss: 0.0062\n",
            "Epoch 478/500\n",
            "1/1 [==============================] - 0s 11ms/step - loss: 0.0062\n",
            "Epoch 479/500\n",
            "1/1 [==============================] - 0s 9ms/step - loss: 0.0062\n",
            "Epoch 480/500\n",
            "1/1 [==============================] - 0s 10ms/step - loss: 0.0061\n",
            "Epoch 481/500\n",
            "1/1 [==============================] - 0s 9ms/step - loss: 0.0061\n",
            "Epoch 482/500\n",
            "1/1 [==============================] - 0s 12ms/step - loss: 0.0061\n",
            "Epoch 483/500\n",
            "1/1 [==============================] - 0s 8ms/step - loss: 0.0061\n",
            "Epoch 484/500\n",
            "1/1 [==============================] - 0s 9ms/step - loss: 0.0060\n",
            "Epoch 485/500\n",
            "1/1 [==============================] - 0s 11ms/step - loss: 0.0060\n",
            "Epoch 486/500\n",
            "1/1 [==============================] - 0s 15ms/step - loss: 0.0060\n",
            "Epoch 487/500\n",
            "1/1 [==============================] - 0s 9ms/step - loss: 0.0060\n",
            "Epoch 488/500\n",
            "1/1 [==============================] - 0s 8ms/step - loss: 0.0060\n",
            "Epoch 489/500\n",
            "1/1 [==============================] - 0s 8ms/step - loss: 0.0059\n",
            "Epoch 490/500\n",
            "1/1 [==============================] - 0s 8ms/step - loss: 0.0059\n",
            "Epoch 491/500\n",
            "1/1 [==============================] - 0s 11ms/step - loss: 0.0059\n",
            "Epoch 492/500\n",
            "1/1 [==============================] - 0s 9ms/step - loss: 0.0059\n",
            "Epoch 493/500\n",
            "1/1 [==============================] - 0s 12ms/step - loss: 0.0059\n",
            "Epoch 494/500\n",
            "1/1 [==============================] - 0s 12ms/step - loss: 0.0058\n",
            "Epoch 495/500\n",
            "1/1 [==============================] - 0s 9ms/step - loss: 0.0058\n",
            "Epoch 496/500\n",
            "1/1 [==============================] - 0s 11ms/step - loss: 0.0058\n",
            "Epoch 497/500\n",
            "1/1 [==============================] - 0s 13ms/step - loss: 0.0058\n",
            "Epoch 498/500\n",
            "1/1 [==============================] - 0s 11ms/step - loss: 0.0058\n",
            "Epoch 499/500\n",
            "1/1 [==============================] - 0s 9ms/step - loss: 0.0057\n",
            "Epoch 500/500\n",
            "1/1 [==============================] - 0s 9ms/step - loss: 0.0057\n"
          ]
        }
      ]
    },
    {
      "cell_type": "code",
      "source": [
        "import matplotlib.pyplot as plt\n",
        "plt.plot(history.history['loss'])\n",
        "plt.show()"
      ],
      "metadata": {
        "colab": {
          "base_uri": "https://localhost:8080/",
          "height": 265
        },
        "id": "iwgeZJCn43KD",
        "outputId": "766aeadc-df50-4c86-cd1c-839980345075"
      },
      "execution_count": null,
      "outputs": [
        {
          "output_type": "display_data",
          "data": {
            "text/plain": [
              "<Figure size 432x288 with 1 Axes>"
            ],
            "image/png": "[encoded data removed]"
          },
          "metadata": {
            "needs_background": "light"
          }
        }
      ]
    },
    {
      "cell_type": "code",
      "source": [
        "Z = model.predict(X)\n",
        "print(tf.round(Z))\n",
        "# about 1,000 epoch"
      ],
      "metadata": {
        "colab": {
          "base_uri": "https://localhost:8080/"
        },
        "id": "f9Qx4sd049E0",
        "outputId": "a938c4bc-7b61-4f52-9199-5e48e50490dc"
      },
      "execution_count": null,
      "outputs": [
        {
          "output_type": "stream",
          "name": "stdout",
          "text": [
            "1/1 [==============================] - 0s 25ms/step\n",
            "tf.Tensor(\n",
            "[[0.]\n",
            " [1.]\n",
            " [1.]\n",
            " [0.]], shape=(4, 1), dtype=float32)\n"
          ]
        }
      ]
    },
    {
      "cell_type": "markdown",
      "source": [
        "# activation function"
      ],
      "metadata": {
        "id": "mB6X4Ctz5noX"
      }
    },
    {
      "cell_type": "markdown",
      "source": [
        "1. Linear\n",
        "\n",
        "    `tf.keras.activations.linear(x)`\n",
        "1. Sigmoid \n",
        "    `tf.keras.activations.sigmoid(x)`\n",
        "1. Hard Sigmoid\n",
        "    \n",
        "    3 line connected like sigmoid\n",
        "1. tanh\n",
        "\n",
        "    -1 to 1 but like sigmoid\n",
        "1. ReLU\n",
        "\n",
        "    x < 0, f(x) = 0\n",
        "\n",
        "    other, f(x) = x\n",
        "\n",
        "1. ELU\n",
        "\n",
        "    like ReLU but no corner more curve\n",
        "\n",
        "1. Softmax\n",
        "\n",
        "    approximate the probability\n",
        "\n",
        "    mostly last layer"
      ],
      "metadata": {
        "id": "wmmeMc1m5s2I"
      }
    },
    {
      "cell_type": "markdown",
      "source": [
        "# Tensor Operations"
      ],
      "metadata": {
        "id": "rRUmQNnntvoE"
      }
    },
    {
      "cell_type": "markdown",
      "source": [
        "## tensor creations\n",
        "- constant : `tf.constant([1,2,3])`\n",
        "- variable : `tf.Variable([1,2,3])`\n",
        "- from numpy : `tf.constant(np.array([1,2,3]))`\n",
        "- to numpy : `A.numpy()`\n"
      ],
      "metadata": {
        "id": "su5ikH2qt0-c"
      }
    },
    {
      "cell_type": "markdown",
      "source": [
        "## Automatic Differentiation\n",
        "\n",
        "- gradient tapes\n",
        "    ```python\n",
        "    x = tf.Variable(3.0,name = 'x')\n",
        "    with tf.GradientTape() as t:\n",
        "        #t.watch(x) if x is constant (tf.constant(...))\n",
        "        y = x**2 + 2*x + 1\n",
        "    # dy_dx = 2x + 2\n",
        "    dy_dx = t.gradient(y,x)\n",
        "    #or\n",
        "    t.watched_variables()\n",
        "    print(dy_dx)\n",
        "    ```"
      ],
      "metadata": {
        "id": "UjefWVodw6GT"
      }
    },
    {
      "cell_type": "markdown",
      "source": [
        "# non-linear regression"
      ],
      "metadata": {
        "id": "OE1dYcFw2xTS"
      }
    },
    {
      "cell_type": "code",
      "source": [
        "import numpy as np\n",
        "import matplotlib.pyplot as plt\n",
        "\n",
        "import random"
      ],
      "metadata": {
        "id": "uqyY22XG4-pk"
      },
      "execution_count": null,
      "outputs": []
    },
    {
      "cell_type": "code",
      "source": [
        "N = 100\n",
        "X = np.random.rand(N)\n",
        "Y = np.sin(6 * X) + 0.2 + np.random.rand(N)"
      ],
      "metadata": {
        "id": "l0yTNduQ22eV"
      },
      "execution_count": null,
      "outputs": []
    },
    {
      "cell_type": "code",
      "source": [
        "plt.plot(X,Y,'.')"
      ],
      "metadata": {
        "id": "p7NdMI_j3C_N",
        "outputId": "aa27a1ea-6f0c-4123-aa5c-db64480f9340",
        "colab": {
          "base_uri": "https://localhost:8080/",
          "height": 282
        }
      },
      "execution_count": null,
      "outputs": [
        {
          "output_type": "execute_result",
          "data": {
            "text/plain": [
              "[<matplotlib.lines.Line2D at 0x7ff7404ade50>]"
            ]
          },
          "metadata": {},
          "execution_count": 74
        },
        {
          "output_type": "display_data",
          "data": {
            "text/plain": [
              "<Figure size 432x288 with 1 Axes>"
            ],
            "image/png": "[encoded data removed]"
          },
          "metadata": {
            "needs_background": "light"
          }
        }
      ]
    },
    {
      "cell_type": "code",
      "source": [
        "import tensorflow as tf"
      ],
      "metadata": {
        "id": "Zj_dJ9kx3osN"
      },
      "execution_count": null,
      "outputs": []
    },
    {
      "cell_type": "code",
      "source": [
        "model = tf.keras.Sequential()\n",
        "model.add(tf.keras.layers.Dense(256,input_shape=(1,),activation='relu'))\n",
        "model.add(tf.keras.layers.Dense(128,activation='relu'))\n",
        "model.add(tf.keras.layers.Dense(64,activation='relu'))\n",
        "model.add(tf.keras.layers.Dense(32,activation='relu'))\n",
        "model.add(tf.keras.layers.Dense(16,activation='relu'))\n",
        "\n",
        "model.add(tf.keras.layers.Dense(1))\n",
        "\n",
        "model.compile(optimizer='adam',loss= tf.keras.losses.MeanSquaredError())"
      ],
      "metadata": {
        "id": "7DzFKrpl5GG2"
      },
      "execution_count": null,
      "outputs": []
    },
    {
      "cell_type": "code",
      "source": [
        "history = model.fit(X,Y,epochs = 100)"
      ],
      "metadata": {
        "id": "E9wEaIAE5IEg"
      },
      "execution_count": null,
      "outputs": []
    },
    {
      "cell_type": "code",
      "source": [
        "plt.plot(X,Y,'.b')\n",
        "plt.plot(X,model.predict(X),'.r')"
      ],
      "metadata": {
        "id": "eYepkspZ5yFQ",
        "outputId": "d1508fa3-1c2b-4652-f1ad-aa82dc15f4de",
        "colab": {
          "base_uri": "https://localhost:8080/",
          "height": 300
        }
      },
      "execution_count": null,
      "outputs": [
        {
          "output_type": "stream",
          "name": "stdout",
          "text": [
            "4/4 [==============================] - 0s 3ms/step\n"
          ]
        },
        {
          "output_type": "execute_result",
          "data": {
            "text/plain": [
              "[<matplotlib.lines.Line2D at 0x7ff74052d9d0>]"
            ]
          },
          "metadata": {},
          "execution_count": 124
        },
        {
          "output_type": "display_data",
          "data": {
            "text/plain": [
              "<Figure size 432x288 with 1 Axes>"
            ],
            "image/png": "[encoded data removed]"
          },
          "metadata": {
            "needs_background": "light"
          }
        }
      ]
    },
    {
      "cell_type": "code",
      "source": [],
      "metadata": {
        "id": "X-Me8uEj6IPT"
      },
      "execution_count": null,
      "outputs": []
    },
    {
      "cell_type": "markdown",
      "source": [
        "# Deep learning"
      ],
      "metadata": {
        "id": "mYk94fdP_GTA"
      }
    },
    {
      "cell_type": "markdown",
      "source": [
        "## MNIST with MLP"
      ],
      "metadata": {
        "id": "eQDdkl46AFIN"
      }
    },
    {
      "cell_type": "code",
      "source": [
        "\n",
        "import tensorflow as tf\n",
        "\n",
        "(X_train,y_train), (X_test,y_test) = tf.keras.datasets.mnist.load_data()"
      ],
      "metadata": {
        "id": "AfM5Q0OL_IYO",
        "outputId": "26bb2c89-b63b-48ed-a494-8e33f5aa8ed6",
        "colab": {
          "base_uri": "https://localhost:8080/"
        }
      },
      "execution_count": 1,
      "outputs": [
        {
          "output_type": "stream",
          "name": "stdout",
          "text": [
            "Downloading data from https://storage.googleapis.com/tensorflow/tf-keras-datasets/mnist.npz\n",
            "11490434/11490434 [==============================] - 0s 0us/step\n"
          ]
        }
      ]
    },
    {
      "cell_type": "code",
      "source": [
        "import matplotlib.pyplot as plt\n",
        "import numpy as np"
      ],
      "metadata": {
        "id": "OL_GFS9BARIs"
      },
      "execution_count": 10,
      "outputs": []
    },
    {
      "cell_type": "code",
      "source": [
        "X_train.shape, y_train.shape"
      ],
      "metadata": {
        "id": "2t4MH9nGAjVF",
        "outputId": "448f77ac-0c17-45e1-92fa-391473bb8f5c",
        "colab": {
          "base_uri": "https://localhost:8080/"
        }
      },
      "execution_count": 3,
      "outputs": [
        {
          "output_type": "execute_result",
          "data": {
            "text/plain": [
              "((60000, 28, 28), (60000,))"
            ]
          },
          "metadata": {},
          "execution_count": 3
        }
      ]
    },
    {
      "cell_type": "code",
      "source": [
        "X_train = X_train.reshape(-1,28*28)\n",
        "X_test = X_test.reshape(-1,28*28)"
      ],
      "metadata": {
        "id": "xe2S_putB3G9"
      },
      "execution_count": 4,
      "outputs": []
    },
    {
      "cell_type": "code",
      "source": [
        "# 1-hot encoder\n",
        "y_train = tf.keras.utils.to_categorical(y_train,num_classes=10)\n",
        "y_test = tf.keras.utils.to_categorical(y_test,num_classes=10)"
      ],
      "metadata": {
        "id": "0BtiTO8wDAJZ"
      },
      "execution_count": 5,
      "outputs": []
    },
    {
      "cell_type": "code",
      "source": [
        "d_in = (784,)\n",
        "\n",
        "model = tf.keras.Sequential()\n",
        "model.add(tf.keras.layers.Dense(200,activation='relu',input_shape=d_in))\n",
        "# model.add(tf.keras.layers.Dense(200,activation='relu'))\n",
        "model.add(tf.keras.layers.Dense(200,activation='relu'))\n",
        "model.add(tf.keras.layers.Dense(10,activation='softmax'))\n",
        "model.compile(loss = 'mse',\n",
        "              optimizer = 'sgd')\n"
      ],
      "metadata": {
        "id": "M4CiB-rwAUf8"
      },
      "execution_count": 6,
      "outputs": []
    },
    {
      "cell_type": "code",
      "source": [
        "model.fit(X_train/255.,y_train,epochs=100,validation_data=(X_test/255.,y_test))"
      ],
      "metadata": {
        "id": "EjBKcCW3BTpw"
      },
      "execution_count": null,
      "outputs": []
    },
    {
      "cell_type": "code",
      "source": [
        "pred = model.predict(X_test/255.)\n",
        "print(np.sum(pred.argmax(axis=1) == y_test.argmax(axis=1)) / len(y_test))"
      ],
      "metadata": {
        "id": "IN7NjEqgBWe5",
        "outputId": "7a83f826-e99a-4d4e-9ee7-1ef4dc65d0c6",
        "colab": {
          "base_uri": "https://localhost:8080/"
        }
      },
      "execution_count": 11,
      "outputs": [
        {
          "output_type": "stream",
          "name": "stdout",
          "text": [
            "313/313 [==============================] - 1s 3ms/step\n",
            "0.9488\n"
          ]
        }
      ]
    },
    {
      "cell_type": "code",
      "source": [
        "pred[0]"
      ],
      "metadata": {
        "id": "8byPBspcEX-R",
        "outputId": "6455a301-f1fb-4679-a473-aefd91ef6ad8",
        "colab": {
          "base_uri": "https://localhost:8080/"
        }
      },
      "execution_count": 12,
      "outputs": [
        {
          "output_type": "execute_result",
          "data": {
            "text/plain": [
              "array([3.5354294e-04, 2.1551062e-07, 1.0469919e-03, 6.3512204e-03,\n",
              "       2.0750188e-06, 2.2980414e-04, 1.2482332e-07, 9.9174249e-01,\n",
              "       4.4149419e-05, 2.2945333e-04], dtype=float32)"
            ]
          },
          "metadata": {},
          "execution_count": 12
        }
      ]
    },
    {
      "cell_type": "markdown",
      "source": [
        "# 2D Discrete Cross-coerrelation\n"
      ],
      "metadata": {
        "id": "wxldb4gXhNHU"
      }
    },
    {
      "cell_type": "markdown",
      "source": [
        "- Original purpose = Measure of similarity of 2 signals\n",
        "- Image processing - Filtering\n",
        "- sliding dot product\n",
        "$$\n",
        "g_{i,j} = \\sum_{u = -k}^k \\sum_{v = -k}^k h_{u,v}f_{i+u,j+v}\n",
        "$$\n",
        "\n",
        "**aka Convolutional NN ( CNN )**"
      ],
      "metadata": {
        "id": "BLbMtqeVhU6p"
      }
    },
    {
      "cell_type": "code",
      "source": [],
      "metadata": {
        "id": "ssNfUZVPgZTy"
      },
      "execution_count": null,
      "outputs": []
    }
  ]
}